{
 "cells": [
  {
   "cell_type": "code",
   "execution_count": 3,
   "id": "e26cd242",
   "metadata": {},
   "outputs": [
    {
     "data": {
      "application/vnd.microsoft.datawrangler.viewer.v0+json": {
       "columns": [
        {
         "name": "index",
         "rawType": "int64",
         "type": "integer"
        },
        {
         "name": "Age",
         "rawType": "float64",
         "type": "float"
        },
        {
         "name": "Salary",
         "rawType": "float64",
         "type": "float"
        }
       ],
       "ref": "f667e297-3060-445a-8e6b-bcd0ed874b8a",
       "rows": [
        [
         "0",
         "22.0",
         "25000.0"
        ],
        [
         "1",
         "35.0",
         "40000.0"
        ],
        [
         "2",
         "39.25",
         "38000.0"
        ],
        [
         "3",
         "58.0",
         "38750.0"
        ],
        [
         "4",
         "42.0",
         "52000.0"
        ],
        [
         "5",
         "39.25",
         "38750.0"
        ]
       ],
       "shape": {
        "columns": 2,
        "rows": 6
       }
      },
      "text/html": [
       "<div>\n",
       "<style scoped>\n",
       "    .dataframe tbody tr th:only-of-type {\n",
       "        vertical-align: middle;\n",
       "    }\n",
       "\n",
       "    .dataframe tbody tr th {\n",
       "        vertical-align: top;\n",
       "    }\n",
       "\n",
       "    .dataframe thead th {\n",
       "        text-align: right;\n",
       "    }\n",
       "</style>\n",
       "<table border=\"1\" class=\"dataframe\">\n",
       "  <thead>\n",
       "    <tr style=\"text-align: right;\">\n",
       "      <th></th>\n",
       "      <th>Age</th>\n",
       "      <th>Salary</th>\n",
       "    </tr>\n",
       "  </thead>\n",
       "  <tbody>\n",
       "    <tr>\n",
       "      <th>0</th>\n",
       "      <td>22.00</td>\n",
       "      <td>25000.0</td>\n",
       "    </tr>\n",
       "    <tr>\n",
       "      <th>1</th>\n",
       "      <td>35.00</td>\n",
       "      <td>40000.0</td>\n",
       "    </tr>\n",
       "    <tr>\n",
       "      <th>2</th>\n",
       "      <td>39.25</td>\n",
       "      <td>38000.0</td>\n",
       "    </tr>\n",
       "    <tr>\n",
       "      <th>3</th>\n",
       "      <td>58.00</td>\n",
       "      <td>38750.0</td>\n",
       "    </tr>\n",
       "    <tr>\n",
       "      <th>4</th>\n",
       "      <td>42.00</td>\n",
       "      <td>52000.0</td>\n",
       "    </tr>\n",
       "    <tr>\n",
       "      <th>5</th>\n",
       "      <td>39.25</td>\n",
       "      <td>38750.0</td>\n",
       "    </tr>\n",
       "  </tbody>\n",
       "</table>\n",
       "</div>"
      ],
      "text/plain": [
       "     Age   Salary\n",
       "0  22.00  25000.0\n",
       "1  35.00  40000.0\n",
       "2  39.25  38000.0\n",
       "3  58.00  38750.0\n",
       "4  42.00  52000.0\n",
       "5  39.25  38750.0"
      ]
     },
     "execution_count": 3,
     "metadata": {},
     "output_type": "execute_result"
    }
   ],
   "source": [
    "import pandas as pd\n",
    "from feature_engine.imputation import MeanMedianImputer \n",
    "from sklearn.pipeline import Pipeline\n",
    "\n",
    "df = pd.DataFrame({\n",
    "    'Age':[22, 35, None, 58, 42, None],\n",
    "    'Salary': [25000, 40000, 38000, None, 52000, None]\n",
    "})\n",
    "df\n",
    "\n",
    "imputer = MeanMedianImputer(imputation_method='mean', variables=['Age', 'Salary'])\n",
    "\n",
    "#make a pipeline\n",
    "\n",
    "pipe = Pipeline([\n",
    "    ('imputer', imputer)\n",
    "])\n",
    "\n",
    "pipe.fit(df)\n",
    "pipe.transform(df)"
   ]
  },
  {
   "cell_type": "code",
   "execution_count": null,
   "id": "273534ce",
   "metadata": {},
   "outputs": [
    {
     "data": {
      "application/vnd.microsoft.datawrangler.viewer.v0+json": {
       "columns": [
        {
         "name": "index",
         "rawType": "int64",
         "type": "integer"
        },
        {
         "name": "model",
         "rawType": "object",
         "type": "string"
        },
        {
         "name": "year",
         "rawType": "float64",
         "type": "float"
        },
        {
         "name": "mileage",
         "rawType": "float64",
         "type": "float"
        }
       ],
       "ref": "e52a43b7-8a54-4b3e-a131-bdd2433d32d4",
       "rows": [
        [
         "0",
         "Honda",
         "2015.0",
         "20000.0"
        ],
        [
         "1",
         "Ford",
         "2014.0",
         "15000.0"
        ],
        [
         "2",
         "Nissan",
         "2015.0",
         "25000.0"
        ],
        [
         "3",
         "Audi",
         "2019.0",
         "20000.0"
        ]
       ],
       "shape": {
        "columns": 3,
        "rows": 4
       }
      },
      "text/html": [
       "<div>\n",
       "<style scoped>\n",
       "    .dataframe tbody tr th:only-of-type {\n",
       "        vertical-align: middle;\n",
       "    }\n",
       "\n",
       "    .dataframe tbody tr th {\n",
       "        vertical-align: top;\n",
       "    }\n",
       "\n",
       "    .dataframe thead th {\n",
       "        text-align: right;\n",
       "    }\n",
       "</style>\n",
       "<table border=\"1\" class=\"dataframe\">\n",
       "  <thead>\n",
       "    <tr style=\"text-align: right;\">\n",
       "      <th></th>\n",
       "      <th>model</th>\n",
       "      <th>year</th>\n",
       "      <th>mileage</th>\n",
       "    </tr>\n",
       "  </thead>\n",
       "  <tbody>\n",
       "    <tr>\n",
       "      <th>0</th>\n",
       "      <td>Honda</td>\n",
       "      <td>2015.0</td>\n",
       "      <td>20000.0</td>\n",
       "    </tr>\n",
       "    <tr>\n",
       "      <th>1</th>\n",
       "      <td>Ford</td>\n",
       "      <td>2014.0</td>\n",
       "      <td>15000.0</td>\n",
       "    </tr>\n",
       "    <tr>\n",
       "      <th>2</th>\n",
       "      <td>Nissan</td>\n",
       "      <td>2015.0</td>\n",
       "      <td>25000.0</td>\n",
       "    </tr>\n",
       "    <tr>\n",
       "      <th>3</th>\n",
       "      <td>Audi</td>\n",
       "      <td>2019.0</td>\n",
       "      <td>20000.0</td>\n",
       "    </tr>\n",
       "  </tbody>\n",
       "</table>\n",
       "</div>"
      ],
      "text/plain": [
       "    model    year  mileage\n",
       "0   Honda  2015.0  20000.0\n",
       "1    Ford  2014.0  15000.0\n",
       "2  Nissan  2015.0  25000.0\n",
       "3    Audi  2019.0  20000.0"
      ]
     },
     "execution_count": 6,
     "metadata": {},
     "output_type": "execute_result"
    }
   ],
   "source": [
    "df_practice = pd.DataFrame({\n",
    "    'model': ['Honda', 'Ford', 'Nissan', 'Audi'],\n",
    "    'year': [2015, 2014, None, 2019],\n",
    "    'mileage': [None, 15000, 25000, None]\n",
    "})\n",
    "\n",
    "imputer = MeanMedianImputer(imputation_method='median', variables=['year', 'mileage']) #fills in the missing data with the imputation method\n",
    "\n",
    "pipe = Pipeline([\n",
    "    ('imputer', imputer)\n",
    "])\n",
    "\n",
    "pipe.fit(df_practice)\n",
    "pipe.transform(df_practice)"
   ]
  },
  {
   "cell_type": "code",
   "execution_count": 11,
   "id": "8392fb2a",
   "metadata": {},
   "outputs": [
    {
     "data": {
      "application/vnd.microsoft.datawrangler.viewer.v0+json": {
       "columns": [
        {
         "name": "index",
         "rawType": "int64",
         "type": "integer"
        },
        {
         "name": "Color",
         "rawType": "object",
         "type": "string"
        },
        {
         "name": "Size",
         "rawType": "object",
         "type": "string"
        }
       ],
       "ref": "0ff4d929-d8a4-41b8-bb23-dcf301dbdb04",
       "rows": [
        [
         "0",
         "Red",
         "S"
        ],
        [
         "1",
         "Blue",
         "M"
        ],
        [
         "2",
         "Blue",
         "M"
        ],
        [
         "3",
         "Green",
         "L"
        ],
        [
         "4",
         "Blue",
         "M"
        ],
        [
         "5",
         "Blue",
         "M"
        ]
       ],
       "shape": {
        "columns": 2,
        "rows": 6
       }
      },
      "text/html": [
       "<div>\n",
       "<style scoped>\n",
       "    .dataframe tbody tr th:only-of-type {\n",
       "        vertical-align: middle;\n",
       "    }\n",
       "\n",
       "    .dataframe tbody tr th {\n",
       "        vertical-align: top;\n",
       "    }\n",
       "\n",
       "    .dataframe thead th {\n",
       "        text-align: right;\n",
       "    }\n",
       "</style>\n",
       "<table border=\"1\" class=\"dataframe\">\n",
       "  <thead>\n",
       "    <tr style=\"text-align: right;\">\n",
       "      <th></th>\n",
       "      <th>Color</th>\n",
       "      <th>Size</th>\n",
       "    </tr>\n",
       "  </thead>\n",
       "  <tbody>\n",
       "    <tr>\n",
       "      <th>0</th>\n",
       "      <td>Red</td>\n",
       "      <td>S</td>\n",
       "    </tr>\n",
       "    <tr>\n",
       "      <th>1</th>\n",
       "      <td>Blue</td>\n",
       "      <td>M</td>\n",
       "    </tr>\n",
       "    <tr>\n",
       "      <th>2</th>\n",
       "      <td>Blue</td>\n",
       "      <td>M</td>\n",
       "    </tr>\n",
       "    <tr>\n",
       "      <th>3</th>\n",
       "      <td>Green</td>\n",
       "      <td>L</td>\n",
       "    </tr>\n",
       "    <tr>\n",
       "      <th>4</th>\n",
       "      <td>Blue</td>\n",
       "      <td>M</td>\n",
       "    </tr>\n",
       "    <tr>\n",
       "      <th>5</th>\n",
       "      <td>Blue</td>\n",
       "      <td>M</td>\n",
       "    </tr>\n",
       "  </tbody>\n",
       "</table>\n",
       "</div>"
      ],
      "text/plain": [
       "   Color Size\n",
       "0    Red    S\n",
       "1   Blue    M\n",
       "2   Blue    M\n",
       "3  Green    L\n",
       "4   Blue    M\n",
       "5   Blue    M"
      ]
     },
     "execution_count": 11,
     "metadata": {},
     "output_type": "execute_result"
    }
   ],
   "source": [
    "from feature_engine.imputation import CategoricalImputer\n",
    "\n",
    "df = pd.DataFrame({\n",
    "    'Color': ['Red', 'Blue', None, 'Green', 'Blue', None],\n",
    "    'Size': ['S', 'M', 'M', 'L', None, None]\n",
    "})\n",
    "\n",
    "cat_imputer = CategoricalImputer(imputation_method='frequent', variables=['Color', 'Size'])\n",
    "cat_imputer.fit(df).transform(df)\n"
   ]
  },
  {
   "cell_type": "code",
   "execution_count": 23,
   "id": "094a9f1c",
   "metadata": {},
   "outputs": [
    {
     "data": {
      "application/vnd.microsoft.datawrangler.viewer.v0+json": {
       "columns": [
        {
         "name": "index",
         "rawType": "int64",
         "type": "integer"
        },
        {
         "name": "model",
         "rawType": "object",
         "type": "string"
        },
        {
         "name": "year",
         "rawType": "float64",
         "type": "float"
        },
        {
         "name": "mileage",
         "rawType": "float64",
         "type": "float"
        }
       ],
       "ref": "27826a9f-f47d-43c5-b97d-cd9d05353ab3",
       "rows": [
        [
         "0",
         "Honda",
         "2015.0",
         "15000.0"
        ],
        [
         "1",
         "Ford",
         "2014.0",
         "15000.0"
        ],
        [
         "2",
         "Nissan",
         "2015.0",
         "25000.0"
        ],
        [
         "3",
         "Audi",
         "2019.0",
         "15000.0"
        ]
       ],
       "shape": {
        "columns": 3,
        "rows": 4
       }
      },
      "text/html": [
       "<div>\n",
       "<style scoped>\n",
       "    .dataframe tbody tr th:only-of-type {\n",
       "        vertical-align: middle;\n",
       "    }\n",
       "\n",
       "    .dataframe tbody tr th {\n",
       "        vertical-align: top;\n",
       "    }\n",
       "\n",
       "    .dataframe thead th {\n",
       "        text-align: right;\n",
       "    }\n",
       "</style>\n",
       "<table border=\"1\" class=\"dataframe\">\n",
       "  <thead>\n",
       "    <tr style=\"text-align: right;\">\n",
       "      <th></th>\n",
       "      <th>model</th>\n",
       "      <th>year</th>\n",
       "      <th>mileage</th>\n",
       "    </tr>\n",
       "  </thead>\n",
       "  <tbody>\n",
       "    <tr>\n",
       "      <th>0</th>\n",
       "      <td>Honda</td>\n",
       "      <td>2015.0</td>\n",
       "      <td>15000.0</td>\n",
       "    </tr>\n",
       "    <tr>\n",
       "      <th>1</th>\n",
       "      <td>Ford</td>\n",
       "      <td>2014.0</td>\n",
       "      <td>15000.0</td>\n",
       "    </tr>\n",
       "    <tr>\n",
       "      <th>2</th>\n",
       "      <td>Nissan</td>\n",
       "      <td>2015.0</td>\n",
       "      <td>25000.0</td>\n",
       "    </tr>\n",
       "    <tr>\n",
       "      <th>3</th>\n",
       "      <td>Audi</td>\n",
       "      <td>2019.0</td>\n",
       "      <td>15000.0</td>\n",
       "    </tr>\n",
       "  </tbody>\n",
       "</table>\n",
       "</div>"
      ],
      "text/plain": [
       "    model    year  mileage\n",
       "0   Honda  2015.0  15000.0\n",
       "1    Ford  2014.0  15000.0\n",
       "2  Nissan  2015.0  25000.0\n",
       "3    Audi  2019.0  15000.0"
      ]
     },
     "execution_count": 23,
     "metadata": {},
     "output_type": "execute_result"
    }
   ],
   "source": [
    "from feature_engine.imputation import RandomSampleImputer\n",
    "\n",
    "df = pd.DataFrame({\n",
    "    'model': ['Honda', 'Ford', 'Nissan', 'Audi'],\n",
    "    'year': [2015, 2014, None, 2019],\n",
    "    'mileage': [None, 15000, 25000, None]\n",
    "})\n",
    "\n",
    "rand_imputer = RandomSampleImputer(variables=['year', 'mileage'])\n",
    "rand_imputer.fit(df).transform(df)"
   ]
  },
  {
   "cell_type": "code",
   "execution_count": null,
   "id": "db3d6b4c",
   "metadata": {},
   "outputs": [
    {
     "name": "stdout",
     "output_type": "stream",
     "text": [
      "   Brought  City_London  City_Paris\n",
      "0        1            1           0\n",
      "1        0            0           1\n",
      "2        0            1           0\n",
      "3        1            0           0\n",
      "4        0            0           0\n",
      "5        1            0           1\n",
      "       City  Brought\n",
      "0  0.333333        1\n",
      "1  0.333333        0\n",
      "2  0.333333        0\n",
      "3  0.333333        1\n",
      "4  0.333333        0\n",
      "5  0.333333        1\n"
     ]
    }
   ],
   "source": [
    "from feature_engine.encoding import OneHotEncoder, CountFrequencyEncoder\n",
    "\n",
    "df = pd.DataFrame({\n",
    "    'City': ['London', 'Paris', 'London', 'Berlin', 'Berlin', 'Paris'],\n",
    "    'Brought': [1, 0, 0, 1, 0, 1]\n",
    "})\n",
    "\n",
    "onehot = OneHotEncoder(variables=['City'], drop_last=True)\n",
    "count_enc = CountFrequencyEncoder(encoding_method='frequency', variables=['City'])\n",
    "\n",
    "print(onehot.fit_transform(df))\n",
    "print(count_enc.fit_transform(df))"
   ]
  },
  {
   "cell_type": "code",
   "execution_count": 37,
   "id": "51633e1c",
   "metadata": {},
   "outputs": [
    {
     "name": "stdout",
     "output_type": "stream",
     "text": [
      "   Education\n",
      "0          0\n",
      "1          1\n",
      "2          2\n",
      "3          3\n",
      "4          1\n",
      "5          2\n",
      "6          3\n"
     ]
    }
   ],
   "source": [
    "from feature_engine.encoding import OrdinalEncoder\n",
    "\n",
    "df_ordinal = pd.DataFrame({\n",
    "    'Education': [\"High School\", \"Bachelor\", \"Master\", \"PhD\", \"Bachelor\", \"Master\", \"PhD\"]\n",
    "})\n",
    "\n",
    "order = [[\"High School\", \"Bachelor\", \"Master\", \"PhD\"]]\n",
    "\n",
    "y = pd.Series([1, 2, 3, 4, 2, 3, 4])\n",
    "\n",
    "encoder = OrdinalEncoder(\n",
    "    encoding_method = 'ordered', variables=['Education']\n",
    "    )\n",
    "\n",
    "df_ordinal_encoded = encoder.fit_transform(df_ordinal, y)\n",
    "print(df_ordinal_encoded)"
   ]
  }
 ],
 "metadata": {
  "kernelspec": {
   "display_name": ".venv",
   "language": "python",
   "name": "python3"
  },
  "language_info": {
   "codemirror_mode": {
    "name": "ipython",
    "version": 3
   },
   "file_extension": ".py",
   "mimetype": "text/x-python",
   "name": "python",
   "nbconvert_exporter": "python",
   "pygments_lexer": "ipython3",
   "version": "3.12.10"
  }
 },
 "nbformat": 4,
 "nbformat_minor": 5
}
