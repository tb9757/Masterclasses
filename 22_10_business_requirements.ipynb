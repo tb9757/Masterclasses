{
 "cells": [
  {
   "cell_type": "markdown",
   "id": "2326f7bf",
   "metadata": {},
   "source": [
    "# Possible checklist for business requirements\n",
    "\n",
    "* Business Objective: ☐\n",
    "* Primary Metric (North Star): ☐\n",
    "    * Unit & Baseline → Target (with date): ☐\n",
    "* Secondary Metrics / Guardrails (quality, cost, risk): ☐\n",
    "* Users / Stakeholders (who benefits / who decides): ☐\n",
    "* Scope & Out‑of‑Scope: ☐\n",
    "* Success Criteria (Definition of Done): ☐\n",
    "* Ethical/Privacy Considerations: ☐\n",
    "* Delivery Mode: \n",
    "    * ☐ Dashboard \n",
    "    * ☐ API \n",
    "    * ☐ Report \n",
    "    * ☐ Other\n",
    "* Risks & Assumptions: ☐"
   ]
  },
  {
   "cell_type": "markdown",
   "id": "ccb569bf",
   "metadata": {},
   "source": [
    "1. Contact Form: Completion rate is low; management suspects form is too long.\n",
    "2. Factory Maintenance: Predict when a component hits 90% wear to schedule maintenance.\n",
    "3. Insurance Comparison: Users abandon plan comparison due to complexity.\n",
    "Task: Fill the Business Requirements canvas. End with a one sentence objective: i.e. Increase X from baseline to target for user/segment by date, while keeping guardrail within Y limit"
   ]
  },
  {
   "cell_type": "markdown",
   "id": "45bc2dc4",
   "metadata": {},
   "source": [
    "* Business Objective: ☐\n",
    "Increase user completion rate by decreasing complexity of the form, or splitting it into sections. \n",
    "\n",
    "* Primary Metric (North Star): ☐\n",
    "    * Unit & Baseline → Target (with date): ☐\n",
    "    try and get no. forms started / no. forms completed ---> 1 (be specific with how much you want it to go up and by when)\n",
    "* Secondary Metrics / Guardrails (quality, cost, risk): ☐ (mobile error rate less than 2%, make it accessible, reduce time to complete)\n",
    "* Users / Stakeholders (who benefits / who decides): ☐ \n",
    "\n",
    "* Scope & Out‑of‑Scope: ☐ (what can you do which is in scope. )\n",
    "* Success Criteria (Definition of Done): ☐ A/B test!\n",
    "number of forms started / number of forms completed number increases. \n",
    "* Ethical/Privacy Considerations: ☐\n",
    "make sure people aren't being misled, i.e. information is not being left off the form, or the form shortened to the point where information is not clear\n",
    "* Delivery Mode: \n",
    "    * ☐ Dashboard \n",
    "    * ☐ API \n",
    "    * ☐ Report \n",
    "    * ☐ Other\n",
    "* Risks & Assumptions: ☐\n",
    "one assumption could be that the reason people aren't finishing it is due to complexity, could be another factor."
   ]
  },
  {
   "cell_type": "markdown",
   "id": "d201ee0b",
   "metadata": {},
   "source": [
    "# Design thinking\n",
    "\n",
    "Design Thinking\n",
    "- Empathise: Research people, context, motivations; avoid solution bias.\n",
    "- Define: Create a crisp 'problem statement' rooted in user needs.\n",
    "- Ideate: Generate many solutions; suspend judgment.\n",
    "- Prototype: Make it tangible (paper first!).\n",
    "- Test: Observe users achieving goals; measure & learn.\n",
    "\n",
    "Techniques: Five Whys, Five Cs (Circumstance, Constraints, Context, Criteria, Compensating behaviours).\n"
   ]
  },
  {
   "cell_type": "markdown",
   "id": "f133a52f",
   "metadata": {},
   "source": [
    "Persona (for Exercise 2)\n",
    "\n",
    "- Name, Photo (representative/not glam): ☐\n",
    "- Bio & Context (job, tools, environment): ☐\n",
    "- Goals (job to be done): ☐\n",
    "- Frustrations/Pain points: ☐\n",
    "- Motivations & Constraints: ☐\n",
    "- Tech Comfort: ☐\n",
    "- Success Looks Like: ☐\n",
    "\n",
    "Mini Interview Plan (4 phases):\n",
    "\n",
    "- Warm‑up (no right/wrong, small talk)\n",
    "- Energise & Context (“Tell me about the last time…”)\n",
    "- Body (3–4 open probes; “what/why/how; show me”)\n",
    "- Close & Member‑check (reflect back; ask feedback)\n",
    "\n",
    "Task: Draft one persona and 3-4 interview questions aligned to your BR.\n",
    "\n",
    "Deliverable: Screenshot/photo of your persona card + your interview questions list."
   ]
  },
  {
   "cell_type": "markdown",
   "id": "736ec3d2",
   "metadata": {},
   "source": [
    "# Ideation:\n",
    "SCAMPER\n",
    "\n",
    "Substitute\n",
    "Combine\n",
    "Adapt\n",
    "Modify\n",
    "Put to other use\n",
    "Eliminate\n",
    "Reverse"
   ]
  },
  {
   "cell_type": "markdown",
   "id": "b6de4b6e",
   "metadata": {},
   "source": [
    "Task: Brainstorm - select top 2 ideas\n",
    "Sketch them out\n",
    "\n",
    "- BRD: Business goal + metrics + constraints + scope.\n",
    "- Business Hypothesis: Belief about change → metric impact.\n",
    "- Null Hypothesis (H₀): No effect; test aims to reject H₀.\n",
    "- Persona: Evidence‑based user archetype.\n",
    "- Problem Statement: User‑centred need + barrier + cause + emotion.\n",
    "- Prototype: Tangible idea (low‑fi first).\n",
    "- Usability Test: Task success, time, errors, satisfaction."
   ]
  }
 ],
 "metadata": {
  "language_info": {
   "name": "python"
  }
 },
 "nbformat": 4,
 "nbformat_minor": 5
}
