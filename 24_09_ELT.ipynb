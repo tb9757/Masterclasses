{
 "cells": [
  {
   "cell_type": "code",
   "execution_count": null,
   "id": "9cb0543c",
   "metadata": {},
   "outputs": [
    {
     "data": {
      "application/vnd.microsoft.datawrangler.viewer.v0+json": {
       "columns": [
        {
         "name": "index",
         "rawType": "int64",
         "type": "integer"
        },
        {
         "name": "survived",
         "rawType": "int64",
         "type": "integer"
        },
        {
         "name": "pclass",
         "rawType": "int64",
         "type": "integer"
        },
        {
         "name": "sex",
         "rawType": "object",
         "type": "string"
        },
        {
         "name": "age",
         "rawType": "float64",
         "type": "float"
        },
        {
         "name": "sibsp",
         "rawType": "int64",
         "type": "integer"
        },
        {
         "name": "parch",
         "rawType": "int64",
         "type": "integer"
        },
        {
         "name": "fare",
         "rawType": "float64",
         "type": "float"
        },
        {
         "name": "embarked",
         "rawType": "object",
         "type": "string"
        },
        {
         "name": "class",
         "rawType": "category",
         "type": "unknown"
        },
        {
         "name": "who",
         "rawType": "object",
         "type": "string"
        },
        {
         "name": "adult_male",
         "rawType": "bool",
         "type": "boolean"
        },
        {
         "name": "deck",
         "rawType": "category",
         "type": "unknown"
        },
        {
         "name": "embark_town",
         "rawType": "object",
         "type": "string"
        },
        {
         "name": "alive",
         "rawType": "object",
         "type": "string"
        },
        {
         "name": "alone",
         "rawType": "bool",
         "type": "boolean"
        }
       ],
       "ref": "9961f336-c8c9-44a7-b9c9-1578b0e86da5",
       "rows": [
        [
         "0",
         "0",
         "3",
         "male",
         "22.0",
         "1",
         "0",
         "7.25",
         "S",
         "Third",
         "man",
         "True",
         null,
         "Southampton",
         "no",
         "False"
        ],
        [
         "1",
         "1",
         "1",
         "female",
         "38.0",
         "1",
         "0",
         "71.2833",
         "C",
         "First",
         "woman",
         "False",
         "C",
         "Cherbourg",
         "yes",
         "False"
        ],
        [
         "2",
         "1",
         "3",
         "female",
         "26.0",
         "0",
         "0",
         "7.925",
         "S",
         "Third",
         "woman",
         "False",
         null,
         "Southampton",
         "yes",
         "True"
        ],
        [
         "3",
         "1",
         "1",
         "female",
         "35.0",
         "1",
         "0",
         "53.1",
         "S",
         "First",
         "woman",
         "False",
         "C",
         "Southampton",
         "yes",
         "False"
        ],
        [
         "4",
         "0",
         "3",
         "male",
         "35.0",
         "0",
         "0",
         "8.05",
         "S",
         "Third",
         "man",
         "True",
         null,
         "Southampton",
         "no",
         "True"
        ]
       ],
       "shape": {
        "columns": 15,
        "rows": 5
       }
      },
      "text/html": [
       "<div>\n",
       "<style scoped>\n",
       "    .dataframe tbody tr th:only-of-type {\n",
       "        vertical-align: middle;\n",
       "    }\n",
       "\n",
       "    .dataframe tbody tr th {\n",
       "        vertical-align: top;\n",
       "    }\n",
       "\n",
       "    .dataframe thead th {\n",
       "        text-align: right;\n",
       "    }\n",
       "</style>\n",
       "<table border=\"1\" class=\"dataframe\">\n",
       "  <thead>\n",
       "    <tr style=\"text-align: right;\">\n",
       "      <th></th>\n",
       "      <th>survived</th>\n",
       "      <th>pclass</th>\n",
       "      <th>sex</th>\n",
       "      <th>age</th>\n",
       "      <th>sibsp</th>\n",
       "      <th>parch</th>\n",
       "      <th>fare</th>\n",
       "      <th>embarked</th>\n",
       "      <th>class</th>\n",
       "      <th>who</th>\n",
       "      <th>adult_male</th>\n",
       "      <th>deck</th>\n",
       "      <th>embark_town</th>\n",
       "      <th>alive</th>\n",
       "      <th>alone</th>\n",
       "    </tr>\n",
       "  </thead>\n",
       "  <tbody>\n",
       "    <tr>\n",
       "      <th>0</th>\n",
       "      <td>0</td>\n",
       "      <td>3</td>\n",
       "      <td>male</td>\n",
       "      <td>22.0</td>\n",
       "      <td>1</td>\n",
       "      <td>0</td>\n",
       "      <td>7.2500</td>\n",
       "      <td>S</td>\n",
       "      <td>Third</td>\n",
       "      <td>man</td>\n",
       "      <td>True</td>\n",
       "      <td>NaN</td>\n",
       "      <td>Southampton</td>\n",
       "      <td>no</td>\n",
       "      <td>False</td>\n",
       "    </tr>\n",
       "    <tr>\n",
       "      <th>1</th>\n",
       "      <td>1</td>\n",
       "      <td>1</td>\n",
       "      <td>female</td>\n",
       "      <td>38.0</td>\n",
       "      <td>1</td>\n",
       "      <td>0</td>\n",
       "      <td>71.2833</td>\n",
       "      <td>C</td>\n",
       "      <td>First</td>\n",
       "      <td>woman</td>\n",
       "      <td>False</td>\n",
       "      <td>C</td>\n",
       "      <td>Cherbourg</td>\n",
       "      <td>yes</td>\n",
       "      <td>False</td>\n",
       "    </tr>\n",
       "    <tr>\n",
       "      <th>2</th>\n",
       "      <td>1</td>\n",
       "      <td>3</td>\n",
       "      <td>female</td>\n",
       "      <td>26.0</td>\n",
       "      <td>0</td>\n",
       "      <td>0</td>\n",
       "      <td>7.9250</td>\n",
       "      <td>S</td>\n",
       "      <td>Third</td>\n",
       "      <td>woman</td>\n",
       "      <td>False</td>\n",
       "      <td>NaN</td>\n",
       "      <td>Southampton</td>\n",
       "      <td>yes</td>\n",
       "      <td>True</td>\n",
       "    </tr>\n",
       "    <tr>\n",
       "      <th>3</th>\n",
       "      <td>1</td>\n",
       "      <td>1</td>\n",
       "      <td>female</td>\n",
       "      <td>35.0</td>\n",
       "      <td>1</td>\n",
       "      <td>0</td>\n",
       "      <td>53.1000</td>\n",
       "      <td>S</td>\n",
       "      <td>First</td>\n",
       "      <td>woman</td>\n",
       "      <td>False</td>\n",
       "      <td>C</td>\n",
       "      <td>Southampton</td>\n",
       "      <td>yes</td>\n",
       "      <td>False</td>\n",
       "    </tr>\n",
       "    <tr>\n",
       "      <th>4</th>\n",
       "      <td>0</td>\n",
       "      <td>3</td>\n",
       "      <td>male</td>\n",
       "      <td>35.0</td>\n",
       "      <td>0</td>\n",
       "      <td>0</td>\n",
       "      <td>8.0500</td>\n",
       "      <td>S</td>\n",
       "      <td>Third</td>\n",
       "      <td>man</td>\n",
       "      <td>True</td>\n",
       "      <td>NaN</td>\n",
       "      <td>Southampton</td>\n",
       "      <td>no</td>\n",
       "      <td>True</td>\n",
       "    </tr>\n",
       "  </tbody>\n",
       "</table>\n",
       "</div>"
      ],
      "text/plain": [
       "   survived  pclass     sex   age  sibsp  parch     fare embarked  class  \\\n",
       "0         0       3    male  22.0      1      0   7.2500        S  Third   \n",
       "1         1       1  female  38.0      1      0  71.2833        C  First   \n",
       "2         1       3  female  26.0      0      0   7.9250        S  Third   \n",
       "3         1       1  female  35.0      1      0  53.1000        S  First   \n",
       "4         0       3    male  35.0      0      0   8.0500        S  Third   \n",
       "\n",
       "     who  adult_male deck  embark_town alive  alone  \n",
       "0    man        True  NaN  Southampton    no  False  \n",
       "1  woman       False    C    Cherbourg   yes  False  \n",
       "2  woman       False  NaN  Southampton   yes   True  \n",
       "3  woman       False    C  Southampton   yes  False  \n",
       "4    man        True  NaN  Southampton    no   True  "
      ]
     },
     "execution_count": 1,
     "metadata": {},
     "output_type": "execute_result"
    }
   ],
   "source": [
    "import pandas as pd\n",
    "import seaborn as sns\n",
    "#load the data from seaborn into a dataframe\n",
    "df = sns.load_dataset(\"titanic\") #titanic dataset comes with seaborn\n",
    "df.head()\n",
    "\n",
    "\n"
   ]
  },
  {
   "cell_type": "code",
   "execution_count": null,
   "id": "51943b81",
   "metadata": {},
   "outputs": [
    {
     "data": {
      "text/plain": [
       "Index(['survived', 'pclass', 'sex', 'age', 'siblings_spouses',\n",
       "       'parents_children', 'fare', 'embarked', 'class', 'who', 'adult_male',\n",
       "       'deck', 'embark_town', 'alive', 'alone'],\n",
       "      dtype='object')"
      ]
     },
     "execution_count": 2,
     "metadata": {},
     "output_type": "execute_result"
    }
   ],
   "source": [
    "#transform some columns for readability, renames them so that they are easier to read\n",
    "df = df.rename(columns={\n",
    "    \"sibsp\": \"siblings_spouses\",\n",
    "    \"parch\": \"parents_children\"\n",
    "})\n",
    "df.columns"
   ]
  },
  {
   "cell_type": "code",
   "execution_count": null,
   "id": "d286ac89",
   "metadata": {},
   "outputs": [
    {
     "data": {
      "application/vnd.microsoft.datawrangler.viewer.v0+json": {
       "columns": [
        {
         "name": "index",
         "rawType": "object",
         "type": "string"
        },
        {
         "name": "0",
         "rawType": "object",
         "type": "unknown"
        }
       ],
       "ref": "ff7f1c7b-4989-4974-99fe-9a17f8d9056a",
       "rows": [
        [
         "survived",
         "int64"
        ],
        [
         "pclass",
         "int64"
        ],
        [
         "sex",
         "object"
        ],
        [
         "age",
         "float64"
        ],
        [
         "siblings_spouses",
         "int64"
        ],
        [
         "parents_children",
         "int64"
        ],
        [
         "fare",
         "float64"
        ],
        [
         "embarked",
         "object"
        ],
        [
         "class",
         "category"
        ],
        [
         "who",
         "object"
        ],
        [
         "adult_male",
         "bool"
        ],
        [
         "deck",
         "category"
        ],
        [
         "embark_town",
         "object"
        ],
        [
         "alive",
         "object"
        ],
        [
         "alone",
         "bool"
        ]
       ],
       "shape": {
        "columns": 1,
        "rows": 15
       }
      },
      "text/plain": [
       "survived               int64\n",
       "pclass                 int64\n",
       "sex                   object\n",
       "age                  float64\n",
       "siblings_spouses       int64\n",
       "parents_children       int64\n",
       "fare                 float64\n",
       "embarked              object\n",
       "class               category\n",
       "who                   object\n",
       "adult_male              bool\n",
       "deck                category\n",
       "embark_town           object\n",
       "alive                 object\n",
       "alone                   bool\n",
       "dtype: object"
      ]
     },
     "execution_count": 4,
     "metadata": {},
     "output_type": "execute_result"
    }
   ],
   "source": [
    "#find out what data types they are\n",
    "df.dtypes\n"
   ]
  },
  {
   "cell_type": "code",
   "execution_count": 7,
   "id": "c08e918f",
   "metadata": {},
   "outputs": [
    {
     "data": {
      "application/vnd.microsoft.datawrangler.viewer.v0+json": {
       "columns": [
        {
         "name": "index",
         "rawType": "object",
         "type": "string"
        },
        {
         "name": "0",
         "rawType": "object",
         "type": "unknown"
        }
       ],
       "ref": "3b7baec1-d88c-4400-ace7-4f481c70dbad",
       "rows": [
        [
         "survived",
         "Int8"
        ],
        [
         "pclass",
         "Int8"
        ],
        [
         "sex",
         "object"
        ],
        [
         "age",
         "Float32"
        ],
        [
         "siblings_spouses",
         "int64"
        ],
        [
         "parents_children",
         "int64"
        ],
        [
         "fare",
         "Float32"
        ],
        [
         "embarked",
         "object"
        ],
        [
         "class",
         "category"
        ],
        [
         "who",
         "object"
        ],
        [
         "adult_male",
         "bool"
        ],
        [
         "deck",
         "category"
        ],
        [
         "embark_town",
         "object"
        ],
        [
         "alive",
         "object"
        ],
        [
         "alone",
         "bool"
        ]
       ],
       "shape": {
        "columns": 1,
        "rows": 15
       }
      },
      "text/plain": [
       "survived                Int8\n",
       "pclass                  Int8\n",
       "sex                   object\n",
       "age                  Float32\n",
       "siblings_spouses       int64\n",
       "parents_children       int64\n",
       "fare                 Float32\n",
       "embarked              object\n",
       "class               category\n",
       "who                   object\n",
       "adult_male              bool\n",
       "deck                category\n",
       "embark_town           object\n",
       "alive                 object\n",
       "alone                   bool\n",
       "dtype: object"
      ]
     },
     "execution_count": 7,
     "metadata": {},
     "output_type": "execute_result"
    }
   ],
   "source": [
    "'''\n",
    "data types can be changed to to make them more suitable, i.e. take us less space in memory \n",
    "e.g. survived is a 0 or a 1 so it does not need to be an int64, could just be an int8\n",
    "'''\n",
    "#in to astype goes a python dict of the column name then what data type you want to change it to\n",
    "df = df.astype({\n",
    "    'survived':'Int8',\n",
    "    'pclass': 'Int8',\n",
    "    'age': 'Float32',\n",
    "    'fare': 'Float32'\n",
    "})\n",
    "df.dtypes"
   ]
  },
  {
   "cell_type": "code",
   "execution_count": null,
   "id": "5cf59fa7",
   "metadata": {},
   "outputs": [
    {
     "data": {
      "application/vnd.microsoft.datawrangler.viewer.v0+json": {
       "columns": [
        {
         "name": "index",
         "rawType": "object",
         "type": "string"
        },
        {
         "name": "0",
         "rawType": "object",
         "type": "unknown"
        }
       ],
       "ref": "a6d2772d-9b47-45d0-8767-b648f806f3b3",
       "rows": [
        [
         "survived",
         "Int8"
        ],
        [
         "pclass",
         "Int8"
        ],
        [
         "sex",
         "category"
        ],
        [
         "age",
         "Float32"
        ],
        [
         "siblings_spouses",
         "int64"
        ],
        [
         "parents_children",
         "int64"
        ],
        [
         "fare",
         "Float32"
        ],
        [
         "embarked",
         "category"
        ],
        [
         "class",
         "category"
        ],
        [
         "who",
         "category"
        ],
        [
         "adult_male",
         "category"
        ],
        [
         "deck",
         "category"
        ],
        [
         "embark_town",
         "object"
        ],
        [
         "alive",
         "object"
        ],
        [
         "alone",
         "bool"
        ]
       ],
       "shape": {
        "columns": 1,
        "rows": 15
       }
      },
      "text/plain": [
       "survived                Int8\n",
       "pclass                  Int8\n",
       "sex                 category\n",
       "age                  Float32\n",
       "siblings_spouses       int64\n",
       "parents_children       int64\n",
       "fare                 Float32\n",
       "embarked            category\n",
       "class               category\n",
       "who                 category\n",
       "adult_male          category\n",
       "deck                category\n",
       "embark_town           object\n",
       "alive                 object\n",
       "alone                   bool\n",
       "dtype: object"
      ]
     },
     "execution_count": 9,
     "metadata": {},
     "output_type": "execute_result"
    }
   ],
   "source": [
    "#make categoricals explicit i.e. all things which are object type (have discreet values) changing them into category types helps you find if there are mistakes in the data\n",
    "for col in [\"sex\", \"embarked\", \"class\", \"who\", \"adult_male\"]:\n",
    "    if col in df.columns: #checks if the column name \"col\" exists in the dataframe\n",
    "        df[col] = df[col].astype(\"category\") #this replaces the thing in the dataframe with the same thing but now a category\n",
    "\n",
    "'''\n",
    "Internally Pandas stores a categorical column as:\n",
    "a list of categories (unique values), and\n",
    "an integer code for each row referencing which category it is.\n",
    "Benefits:\n",
    "Lower memory usage (especially useful for large datasets with repeated strings).\n",
    "Faster groupby/aggregation/sorting in many cases.\n",
    "Makes the columns set of possible values explicit (useful for data validation).\n",
    "Preserves NaN values. Works for strings, booleans, numbers — anything hashable.\n",
    "'''\n",
    "df.dtypes\n",
    "\n"
   ]
  },
  {
   "cell_type": "code",
   "execution_count": 13,
   "id": "45573ebb",
   "metadata": {},
   "outputs": [
    {
     "data": {
      "application/vnd.microsoft.datawrangler.viewer.v0+json": {
       "columns": [
        {
         "name": "index",
         "rawType": "object",
         "type": "string"
        },
        {
         "name": "0",
         "rawType": "int64",
         "type": "integer"
        }
       ],
       "ref": "7b8e896a-f0f9-4df4-adbb-c0a86ee50db0",
       "rows": [
        [
         "survived",
         "0"
        ],
        [
         "pclass",
         "0"
        ],
        [
         "sex",
         "0"
        ],
        [
         "age",
         "0"
        ],
        [
         "siblings_spouses",
         "0"
        ],
        [
         "parents_children",
         "0"
        ],
        [
         "fare",
         "0"
        ],
        [
         "embarked",
         "0"
        ],
        [
         "class",
         "0"
        ],
        [
         "who",
         "0"
        ],
        [
         "adult_male",
         "0"
        ],
        [
         "deck",
         "688"
        ],
        [
         "embark_town",
         "2"
        ],
        [
         "alive",
         "0"
        ],
        [
         "alone",
         "0"
        ]
       ],
       "shape": {
        "columns": 1,
        "rows": 15
       }
      },
      "text/plain": [
       "survived              0\n",
       "pclass                0\n",
       "sex                   0\n",
       "age                   0\n",
       "siblings_spouses      0\n",
       "parents_children      0\n",
       "fare                  0\n",
       "embarked              0\n",
       "class                 0\n",
       "who                   0\n",
       "adult_male            0\n",
       "deck                688\n",
       "embark_town           2\n",
       "alive                 0\n",
       "alone                 0\n",
       "dtype: int64"
      ]
     },
     "execution_count": 13,
     "metadata": {},
     "output_type": "execute_result"
    }
   ],
   "source": [
    "#handling nulls\n",
    "#suming the nulls in each col\n",
    "df.isna().sum()\n",
    "\n",
    "#change data or delete rows\n",
    "#simple, defensive fixes \n",
    "df['age'] = df['age'].fillna(df['age'].median()) #fillna fills in the ages, in this case with the median age\n",
    "df['embarked'] = df['embarked'].fillna(df['embarked'].mode()[0]) # categorical -> mode\n",
    "df = df.dropna(subset=['fare']) #drop if missing fare (not missing fares)\n",
    "\n",
    "df.isna().sum()"
   ]
  },
  {
   "cell_type": "code",
   "execution_count": null,
   "id": "6ada4f4b",
   "metadata": {},
   "outputs": [
    {
     "data": {
      "application/vnd.microsoft.datawrangler.viewer.v0+json": {
       "columns": [
        {
         "name": "index",
         "rawType": "int64",
         "type": "integer"
        },
        {
         "name": "survived",
         "rawType": "Int8",
         "type": "integer"
        },
        {
         "name": "pclass",
         "rawType": "Int8",
         "type": "integer"
        },
        {
         "name": "sex",
         "rawType": "category",
         "type": "unknown"
        },
        {
         "name": "age",
         "rawType": "Float32",
         "type": "float"
        },
        {
         "name": "siblings_spouses",
         "rawType": "int64",
         "type": "integer"
        },
        {
         "name": "parents_children",
         "rawType": "int64",
         "type": "integer"
        },
        {
         "name": "fare",
         "rawType": "Float32",
         "type": "float"
        },
        {
         "name": "embarked",
         "rawType": "category",
         "type": "unknown"
        },
        {
         "name": "class",
         "rawType": "category",
         "type": "unknown"
        },
        {
         "name": "who",
         "rawType": "category",
         "type": "unknown"
        },
        {
         "name": "adult_male",
         "rawType": "category",
         "type": "unknown"
        },
        {
         "name": "deck",
         "rawType": "category",
         "type": "unknown"
        },
        {
         "name": "embark_town",
         "rawType": "object",
         "type": "string"
        },
        {
         "name": "alive",
         "rawType": "object",
         "type": "string"
        },
        {
         "name": "alone",
         "rawType": "bool",
         "type": "boolean"
        },
        {
         "name": "family_size",
         "rawType": "int64",
         "type": "integer"
        },
        {
         "name": "age_group",
         "rawType": "category",
         "type": "unknown"
        },
        {
         "name": "fare_per_person",
         "rawType": "Float64",
         "type": "float"
        }
       ],
       "ref": "8ea5aabc-2da3-4f7d-8996-2a7ab9a9d058",
       "rows": [
        [
         "0",
         "0",
         "3",
         "male",
         "22.0",
         "1",
         "0",
         "7.25",
         "S",
         "Third",
         "man",
         "True",
         null,
         "Southampton",
         "no",
         "False",
         "2",
         "young adult",
         "3.62"
        ],
        [
         "1",
         "1",
         "1",
         "female",
         "38.0",
         "1",
         "0",
         "71.2833",
         "C",
         "First",
         "woman",
         "False",
         "C",
         "Cherbourg",
         "yes",
         "False",
         "2",
         "adult",
         "35.64"
        ],
        [
         "2",
         "1",
         "3",
         "female",
         "26.0",
         "0",
         "0",
         "7.925",
         "S",
         "Third",
         "woman",
         "False",
         null,
         "Southampton",
         "yes",
         "True",
         "1",
         "young adult",
         "7.93"
        ]
       ],
       "shape": {
        "columns": 18,
        "rows": 3
       }
      },
      "text/html": [
       "<div>\n",
       "<style scoped>\n",
       "    .dataframe tbody tr th:only-of-type {\n",
       "        vertical-align: middle;\n",
       "    }\n",
       "\n",
       "    .dataframe tbody tr th {\n",
       "        vertical-align: top;\n",
       "    }\n",
       "\n",
       "    .dataframe thead th {\n",
       "        text-align: right;\n",
       "    }\n",
       "</style>\n",
       "<table border=\"1\" class=\"dataframe\">\n",
       "  <thead>\n",
       "    <tr style=\"text-align: right;\">\n",
       "      <th></th>\n",
       "      <th>survived</th>\n",
       "      <th>pclass</th>\n",
       "      <th>sex</th>\n",
       "      <th>age</th>\n",
       "      <th>siblings_spouses</th>\n",
       "      <th>parents_children</th>\n",
       "      <th>fare</th>\n",
       "      <th>embarked</th>\n",
       "      <th>class</th>\n",
       "      <th>who</th>\n",
       "      <th>adult_male</th>\n",
       "      <th>deck</th>\n",
       "      <th>embark_town</th>\n",
       "      <th>alive</th>\n",
       "      <th>alone</th>\n",
       "      <th>family_size</th>\n",
       "      <th>age_group</th>\n",
       "      <th>fare_per_person</th>\n",
       "    </tr>\n",
       "  </thead>\n",
       "  <tbody>\n",
       "    <tr>\n",
       "      <th>0</th>\n",
       "      <td>0</td>\n",
       "      <td>3</td>\n",
       "      <td>male</td>\n",
       "      <td>22.0</td>\n",
       "      <td>1</td>\n",
       "      <td>0</td>\n",
       "      <td>7.25</td>\n",
       "      <td>S</td>\n",
       "      <td>Third</td>\n",
       "      <td>man</td>\n",
       "      <td>True</td>\n",
       "      <td>NaN</td>\n",
       "      <td>Southampton</td>\n",
       "      <td>no</td>\n",
       "      <td>False</td>\n",
       "      <td>2</td>\n",
       "      <td>young adult</td>\n",
       "      <td>3.62</td>\n",
       "    </tr>\n",
       "    <tr>\n",
       "      <th>1</th>\n",
       "      <td>1</td>\n",
       "      <td>1</td>\n",
       "      <td>female</td>\n",
       "      <td>38.0</td>\n",
       "      <td>1</td>\n",
       "      <td>0</td>\n",
       "      <td>71.283302</td>\n",
       "      <td>C</td>\n",
       "      <td>First</td>\n",
       "      <td>woman</td>\n",
       "      <td>False</td>\n",
       "      <td>C</td>\n",
       "      <td>Cherbourg</td>\n",
       "      <td>yes</td>\n",
       "      <td>False</td>\n",
       "      <td>2</td>\n",
       "      <td>adult</td>\n",
       "      <td>35.64</td>\n",
       "    </tr>\n",
       "    <tr>\n",
       "      <th>2</th>\n",
       "      <td>1</td>\n",
       "      <td>3</td>\n",
       "      <td>female</td>\n",
       "      <td>26.0</td>\n",
       "      <td>0</td>\n",
       "      <td>0</td>\n",
       "      <td>7.925</td>\n",
       "      <td>S</td>\n",
       "      <td>Third</td>\n",
       "      <td>woman</td>\n",
       "      <td>False</td>\n",
       "      <td>NaN</td>\n",
       "      <td>Southampton</td>\n",
       "      <td>yes</td>\n",
       "      <td>True</td>\n",
       "      <td>1</td>\n",
       "      <td>young adult</td>\n",
       "      <td>7.93</td>\n",
       "    </tr>\n",
       "  </tbody>\n",
       "</table>\n",
       "</div>"
      ],
      "text/plain": [
       "   survived  pclass     sex   age  siblings_spouses  parents_children  \\\n",
       "0         0       3    male  22.0                 1                 0   \n",
       "1         1       1  female  38.0                 1                 0   \n",
       "2         1       3  female  26.0                 0                 0   \n",
       "\n",
       "        fare embarked  class    who adult_male deck  embark_town alive  alone  \\\n",
       "0       7.25        S  Third    man       True  NaN  Southampton    no  False   \n",
       "1  71.283302        C  First  woman      False    C    Cherbourg   yes  False   \n",
       "2      7.925        S  Third  woman      False  NaN  Southampton   yes   True   \n",
       "\n",
       "   family_size    age_group  fare_per_person  \n",
       "0            2  young adult             3.62  \n",
       "1            2        adult            35.64  \n",
       "2            1  young adult             7.93  "
      ]
     },
     "execution_count": 16,
     "metadata": {},
     "output_type": "execute_result"
    }
   ],
   "source": [
    "#create a new column\n",
    "# family_size = self + siblings/spouses + parent/children\n",
    "\n",
    "df[\"family_size\"] = df['siblings_spouses'] + df['parents_children'] + 1\n",
    "\n",
    "#age bands (ordinal categorical) \n",
    "#cut puts things into bins\n",
    "df['age_group'] = pd.cut(\n",
    "    df['age'],\n",
    "    bins=[0, 12, 18, 35, 55, 120],\n",
    "    labels=['child', 'teen', 'young adult', 'adult', 'senior'],\n",
    "    right=True\n",
    ")\n",
    "\n",
    "#fare per family using the family column I just made\n",
    "df['fare_per_person'] = (df['fare'] / df['family_size']).round(2)\n",
    "df.head(3)"
   ]
  },
  {
   "cell_type": "code",
   "execution_count": 22,
   "id": "9464ec62",
   "metadata": {},
   "outputs": [
    {
     "name": "stdout",
     "output_type": "stream",
     "text": [
      "Duplicate rows:  136\n"
     ]
    },
    {
     "data": {
      "text/plain": [
       "{'negative_fare': 0, 'negative_age': 0, 'bad_pclass': 0, 'bad_sex': 0}"
      ]
     },
     "execution_count": 22,
     "metadata": {},
     "output_type": "execute_result"
    }
   ],
   "source": [
    "#data quality checks duplicates (across a sensible subset of columns)\n",
    "dupes = df.duplicated(subset=[\n",
    "    'pclass', 'sex', 'age', 'fare', 'siblings_spouses', 'parents_children']).sum()\n",
    "print('Duplicate rows: ', dupes)\n",
    "\n",
    "#invalid ranges / values\n",
    "invalid = {\n",
    "    'negative_fare': int((df['fare'] < 0).sum()),\n",
    "    'negative_age': int((df['age'] < 0).sum()),\n",
    "    'bad_pclass': int((~df['pclass'].isin([1, 2, 3])).sum()),\n",
    "    'bad_sex': int((~df['sex'].isin([\"male\", \"female\"])).sum())  \n",
    "}\n",
    "invalid"
   ]
  }
 ],
 "metadata": {
  "kernelspec": {
   "display_name": ".venv",
   "language": "python",
   "name": "python3"
  },
  "language_info": {
   "codemirror_mode": {
    "name": "ipython",
    "version": 3
   },
   "file_extension": ".py",
   "mimetype": "text/x-python",
   "name": "python",
   "nbconvert_exporter": "python",
   "pygments_lexer": "ipython3",
   "version": "3.12.10"
  }
 },
 "nbformat": 4,
 "nbformat_minor": 5
}
